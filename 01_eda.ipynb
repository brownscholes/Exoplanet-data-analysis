{
 "cells": [
  {
   "cell_type": "code",
   "execution_count": null,
   "id": "53e94e22",
   "metadata": {},
   "outputs": [],
   "source": [
    "pip install astroquery"
   ]
  },
  {
   "cell_type": "code",
   "execution_count": 28,
   "id": "ad25c078",
   "metadata": {},
   "outputs": [],
   "source": [
    "from astroquery.ipac.nexsci.nasa_exoplanet_archive import NasaExoplanetArchive\n",
    "import pandas as pd"
   ]
  },
  {
   "cell_type": "code",
   "execution_count": 35,
   "id": "c6904656",
   "metadata": {},
   "outputs": [
    {
     "data": {
      "text/html": [
       "<div>\n",
       "<style scoped>\n",
       "    .dataframe tbody tr th:only-of-type {\n",
       "        vertical-align: middle;\n",
       "    }\n",
       "\n",
       "    .dataframe tbody tr th {\n",
       "        vertical-align: top;\n",
       "    }\n",
       "\n",
       "    .dataframe thead th {\n",
       "        text-align: right;\n",
       "    }\n",
       "</style>\n",
       "<table border=\"1\" class=\"dataframe\">\n",
       "  <thead>\n",
       "    <tr style=\"text-align: right;\">\n",
       "      <th></th>\n",
       "      <th>pl_name</th>\n",
       "      <th>hostname</th>\n",
       "      <th>disc_year</th>\n",
       "      <th>pl_orbper</th>\n",
       "      <th>pl_rade</th>\n",
       "      <th>pl_bmasse</th>\n",
       "      <th>pl_eqt</th>\n",
       "    </tr>\n",
       "  </thead>\n",
       "  <tbody>\n",
       "    <tr>\n",
       "      <th>0</th>\n",
       "      <td>Kepler-6 b</td>\n",
       "      <td>Kepler-6</td>\n",
       "      <td>2009</td>\n",
       "      <td>3.234699</td>\n",
       "      <td>13.380000</td>\n",
       "      <td>NaN</td>\n",
       "      <td>NaN</td>\n",
       "    </tr>\n",
       "    <tr>\n",
       "      <th>1</th>\n",
       "      <td>Kepler-6 b</td>\n",
       "      <td>Kepler-6</td>\n",
       "      <td>2009</td>\n",
       "      <td>3.234694</td>\n",
       "      <td>13.316002</td>\n",
       "      <td>NaN</td>\n",
       "      <td>1374.57</td>\n",
       "    </tr>\n",
       "    <tr>\n",
       "      <th>2</th>\n",
       "      <td>Kepler-6 b</td>\n",
       "      <td>Kepler-6</td>\n",
       "      <td>2009</td>\n",
       "      <td>3.234700</td>\n",
       "      <td>14.616536</td>\n",
       "      <td>212.31044</td>\n",
       "      <td>1460.00</td>\n",
       "    </tr>\n",
       "    <tr>\n",
       "      <th>3</th>\n",
       "      <td>Kepler-6 b</td>\n",
       "      <td>Kepler-6</td>\n",
       "      <td>2009</td>\n",
       "      <td>3.234699</td>\n",
       "      <td>13.410000</td>\n",
       "      <td>NaN</td>\n",
       "      <td>1355.00</td>\n",
       "    </tr>\n",
       "    <tr>\n",
       "      <th>4</th>\n",
       "      <td>Kepler-6 b</td>\n",
       "      <td>Kepler-6</td>\n",
       "      <td>2009</td>\n",
       "      <td>3.234699</td>\n",
       "      <td>13.410000</td>\n",
       "      <td>NaN</td>\n",
       "      <td>1355.00</td>\n",
       "    </tr>\n",
       "  </tbody>\n",
       "</table>\n",
       "</div>"
      ],
      "text/plain": [
       "      pl_name  hostname  disc_year  pl_orbper    pl_rade  pl_bmasse   pl_eqt\n",
       "0  Kepler-6 b  Kepler-6       2009   3.234699  13.380000        NaN      NaN\n",
       "1  Kepler-6 b  Kepler-6       2009   3.234694  13.316002        NaN  1374.57\n",
       "2  Kepler-6 b  Kepler-6       2009   3.234700  14.616536  212.31044  1460.00\n",
       "3  Kepler-6 b  Kepler-6       2009   3.234699  13.410000        NaN  1355.00\n",
       "4  Kepler-6 b  Kepler-6       2009   3.234699  13.410000        NaN  1355.00"
      ]
     },
     "execution_count": 35,
     "metadata": {},
     "output_type": "execute_result"
    }
   ],
   "source": [
    "df = NasaExoplanetArchive.query_criteria (table=\"PS\",\n",
    "    select=\"pl_name, hostname, disc_year, pl_orbper, pl_rade, pl_bmasse, pl_eqt\",\n",
    "    where=\"pl_orbper IS NOT NULL\")\n",
    "\n",
    "df = df.to_pandas()\n",
    "df.head()"
   ]
  },
  {
   "cell_type": "code",
   "execution_count": null,
   "id": "31d46957",
   "metadata": {},
   "outputs": [],
   "source": []
  },
  {
   "cell_type": "code",
   "execution_count": null,
   "id": "f81db91d",
   "metadata": {},
   "outputs": [],
   "source": []
  }
 ],
 "metadata": {
  "kernelspec": {
   "display_name": "Python 3 (ipykernel)",
   "language": "python",
   "name": "python3"
  },
  "language_info": {
   "codemirror_mode": {
    "name": "ipython",
    "version": 3
   },
   "file_extension": ".py",
   "mimetype": "text/x-python",
   "name": "python",
   "nbconvert_exporter": "python",
   "pygments_lexer": "ipython3",
   "version": "3.11.5"
  }
 },
 "nbformat": 4,
 "nbformat_minor": 5
}
